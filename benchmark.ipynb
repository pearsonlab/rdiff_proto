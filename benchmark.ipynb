{
 "cells": [
  {
   "cell_type": "code",
   "execution_count": 1,
   "metadata": {
    "collapsed": false
   },
   "outputs": [
    {
     "name": "stderr",
     "output_type": "stream",
     "text": [
      "WARNING: Base.writemime is deprecated.\n",
      "  likely near /Users/jmxp/.julia/v0.5/IJulia/src/kernel.jl:31\n",
      "WARNING: Base.writemime is deprecated.\n",
      "  likely near /Users/jmxp/.julia/v0.5/IJulia/src/kernel.jl:31\n",
      "WARNING: Base.writemime is deprecated.\n",
      "  likely near /Users/jmxp/.julia/v0.5/IJulia/src/kernel.jl:31\n",
      "WARNING: Base.writemime is deprecated.\n",
      "  likely near /Users/jmxp/.julia/v0.5/IJulia/src/kernel.jl:31\n"
     ]
    },
    {
     "data": {
      "text/plain": [
       "f"
      ]
     },
     "execution_count": 1,
     "metadata": {},
     "output_type": "execute_result"
    },
    {
     "name": "stderr",
     "output_type": "stream",
     "text": [
      "WARNING: Base.writemime is deprecated.\n",
      "  likely near /Users/jmxp/.julia/v0.5/IJulia/src/kernel.jl:31\n",
      "WARNING: Base.writemime is deprecated.\n",
      "  likely near /Users/jmxp/.julia/v0.5/IJulia/src/kernel.jl:31\n",
      "WARNING: Base.writemime is deprecated.\n",
      "  likely near /Users/jmxp/.julia/v0.5/IJulia/src/kernel.jl:31\n",
      "WARNING: Base.writemime is deprecated.\n",
      "  likely near /Users/jmxp/.julia/v0.5/IJulia/src/kernel.jl:31\n",
      "WARNING: Base.writemime is deprecated.\n",
      "  likely near /Users/jmxp/.julia/v0.5/IJulia/src/kernel.jl:31\n",
      "in display_dict at /Users/jmxp/.julia/v0.5/IJulia/src/execute_request.jl\n"
     ]
    }
   ],
   "source": [
    "n = 1000\n",
    "function f(x)\n",
    "    A = reshape(x[1:n^2], n, n)\n",
    "    B = reshape(x[n^2 + 1:2n^2], n, n)\n",
    "    c = x[2n^2+1:end]\n",
    "    trace(log(A * B .+ c))\n",
    "end"
   ]
  },
  {
   "cell_type": "code",
   "execution_count": 2,
   "metadata": {
    "collapsed": false
   },
   "outputs": [
    {
     "name": "stderr",
     "output_type": "stream",
     "text": [
      "WARNING: Base.writemime is deprecated.\n",
      "  likely near /Users/jmxp/.julia/v0.5/IJulia/src/kernel.jl:31\n",
      "WARNING: Base.writemime is deprecated.\n",
      "  likely near /Users/jmxp/.julia/v0.5/IJulia/src/kernel.jl:31\n",
      "WARNING: Base.writemime is deprecated.\n",
      "  likely near /Users/jmxp/.julia/v0.5/IJulia/src/kernel.jl:31\n",
      "WARNING: Base.writemime is deprecated.\n",
      "  likely near /Users/jmxp/.julia/v0.5/IJulia/src/kernel.jl:31\n",
      "WARNING: Base.writemime is deprecated.\n",
      "  likely near /Users/jmxp/.julia/v0.5/IJulia/src/kernel.jl:31\n",
      "in display_dict at /Users/jmxp/.julia/v0.5/IJulia/src/execute_request.jl\n"
     ]
    }
   ],
   "source": [
    "@show N = 2n^2 + n\n",
    "x = rand(N)\n",
    "f(x)"
   ]
  },
  {
   "cell_type": "code",
   "execution_count": 3,
   "metadata": {
    "collapsed": false
   },
   "outputs": [
    {
     "data": {
      "text/plain": [
       "2001000"
      ]
     },
     "execution_count": 3,
     "metadata": {},
     "output_type": "execute_result"
    },
    {
     "name": "stderr",
     "output_type": "stream",
     "text": [
      "WARNING: Base.writemime is deprecated.\n",
      "  likely near /Users/jmxp/.julia/v0.5/IJulia/src/kernel.jl:31\n",
      "WARNING: Base.writemime is deprecated.\n",
      "  likely near /Users/jmxp/.julia/v0.5/IJulia/src/kernel.jl:31\n",
      "WARNING: Base.writemime is deprecated.\n",
      "  likely near /Users/jmxp/.julia/v0.5/IJulia/src/kernel.jl:31\n",
      "WARNING: Base.writemime is deprecated.\n",
      "  likely near /Users/jmxp/.julia/v0.5/IJulia/src/kernel.jl:31\n",
      "WARNING: Base.writemime is deprecated.\n",
      "  likely near /Users/jmxp/.julia/v0.5/IJulia/src/kernel.jl:31\n",
      "in display_dict at /Users/jmxp/.julia/v0.5/IJulia/src/execute_request.jl\n"
     ]
    }
   ],
   "source": [
    "N"
   ]
  },
  {
   "cell_type": "code",
   "execution_count": 4,
   "metadata": {
    "collapsed": false
   },
   "outputs": [
    {
     "data": {
      "text/plain": [
       "-"
      ]
     },
     "execution_count": 4,
     "metadata": {},
     "output_type": "execute_result"
    }
   ],
   "source": [
    "include(\"prototype.jl\")"
   ]
  },
  {
   "cell_type": "code",
   "execution_count": 5,
   "metadata": {
    "collapsed": false
   },
   "outputs": [
    {
     "name": "stdout",
     "output_type": "stream",
     "text": [
      "  0.016339 seconds (31.97 k allocations: 1.260 MB)\n"
     ]
    },
    {
     "data": {
      "text/plain": [
       "∇f"
      ]
     },
     "execution_count": 5,
     "metadata": {},
     "output_type": "execute_result"
    }
   ],
   "source": [
    "@time ∇f = grad(f)"
   ]
  },
  {
   "cell_type": "code",
   "execution_count": 6,
   "metadata": {
    "collapsed": false
   },
   "outputs": [
    {
     "ename": "LoadError",
     "evalue": "LoadError: InterruptException:\nwhile loading In[6], in expression starting on line 155",
     "output_type": "error",
     "traceback": [
      "LoadError: InterruptException:\nwhile loading In[6], in expression starting on line 155",
      "",
      " in convert(::Type{Nullable{DataStructures.Stack}}, ::DataStructures.Stack{RDiff}) at ./nullable.jl:20",
      " in +(::RDiff, ::RDiff) at /Users/jmxp/code/rdiff/prototype.jl:71",
      " in _generic_matmatmul!(::Array{RDiff,2}, ::Char, ::Char, ::Array{RDiff,2}, ::Array{RDiff,2}) at ./linalg/matmul.jl:529",
      " in generic_matmatmul!(::Array{RDiff,2}, ::Char, ::Char, ::Array{RDiff,2}, ::Array{RDiff,2}) at ./linalg/matmul.jl:446",
      " in *(::Array{RDiff,2}, ::Array{RDiff,2}) at ./linalg/matmul.jl:129",
      " in f(::Array{RDiff,1}) at ./In[1]:6",
      " in (::#∇f#2{#f,DataStructures.Stack{RDiff}})(::Array{Float64,1}) at /Users/jmxp/code/rdiff/prototype.jl:33",
      " in include_string(::String, ::String) at ./loading.jl:380",
      " in eventloop(::ZMQ.Socket) at /Users/jmxp/.julia/v0.5/IJulia/src/IJulia.jl:143",
      " in (::IJulia.##24#30)() at ./task.jl:315"
     ]
    }
   ],
   "source": [
    "@time ∇f(x);"
   ]
  },
  {
   "cell_type": "code",
   "execution_count": null,
   "metadata": {
    "collapsed": false
   },
   "outputs": [],
   "source": [
    "@time ∇f(x);"
   ]
  },
  {
   "cell_type": "code",
   "execution_count": 7,
   "metadata": {
    "collapsed": false
   },
   "outputs": [
    {
     "data": {
      "text/plain": [
       "DataStructures.Stack{RDiff}(Deque [RDiff[]])"
      ]
     },
     "execution_count": 7,
     "metadata": {},
     "output_type": "execute_result"
    },
    {
     "name": "stderr",
     "output_type": "stream",
     "text": [
      "WARNING: Base.writemime is deprecated.\n",
      "  likely near /Users/jmxp/.julia/v0.5/IJulia/src/kernel.jl:31\n",
      "WARNING: Base.writemime is deprecated.\n",
      "  likely near /Users/jmxp/.julia/v0.5/IJulia/src/kernel.jl:31\n",
      "WARNING: Base.writemime is deprecated.\n",
      "  likely near /Users/jmxp/.julia/v0.5/IJulia/src/kernel.jl:31\n",
      "WARNING: Base.writemime is deprecated.\n",
      "  likely near /Users/jmxp/.julia/v0.5/IJulia/src/kernel.jl:31\n",
      "WARNING: Base.writemime is deprecated.\n",
      "  likely near /Users/jmxp/.julia/v0.5/IJulia/src/kernel.jl:31\n",
      "in display_dict at /Users/jmxp/.julia/v0.5/IJulia/src/execute_request.jl\n"
     ]
    }
   ],
   "source": []
  },
  {
   "cell_type": "code",
   "execution_count": 8,
   "metadata": {
    "collapsed": false
   },
   "outputs": [
    {
     "name": "stdout",
     "output_type": "stream",
     "text": [
      "  0.062831 seconds (82.27 k allocations: 3.564 MB)\n"
     ]
    }
   ],
   "source": [
    "@time y = map(x -> RDiff(x, 0., vstack), x);"
   ]
  },
  {
   "cell_type": "code",
   "execution_count": 10,
   "metadata": {
    "collapsed": false
   },
   "outputs": [
    {
     "data": {
      "text/plain": [
       "false"
      ]
     },
     "execution_count": 10,
     "metadata": {},
     "output_type": "execute_result"
    },
    {
     "name": "stderr",
     "output_type": "stream",
     "text": [
      "WARNING: Base.writemime is deprecated.\n",
      "  likely near /Users/jmxp/.julia/v0.5/IJulia/src/kernel.jl:31\n",
      "WARNING: Base.writemime is deprecated.\n",
      "  likely near /Users/jmxp/.julia/v0.5/IJulia/src/kernel.jl:31\n",
      "WARNING: Base.writemime is deprecated.\n",
      "  likely near /Users/jmxp/.julia/v0.5/IJulia/src/kernel.jl:31\n",
      "WARNING: Base.writemime is deprecated.\n",
      "  likely near /Users/jmxp/.julia/v0.5/IJulia/src/kernel.jl:31\n",
      "WARNING: Base.writemime is deprecated.\n",
      "  likely near /Users/jmxp/.julia/v0.5/IJulia/src/kernel.jl:31\n",
      "in display_dict at /Users/jmxp/.julia/v0.5/IJulia/src/execute_request.jl\n"
     ]
    }
   ],
   "source": [
    "isnull(y[1].stack)"
   ]
  },
  {
   "cell_type": "code",
   "execution_count": 11,
   "metadata": {
    "collapsed": false
   },
   "outputs": [],
   "source": [
    "foo = y[1] + y[2];"
   ]
  },
  {
   "cell_type": "code",
   "execution_count": 12,
   "metadata": {
    "collapsed": false
   },
   "outputs": [
    {
     "data": {
      "text/plain": [
       "true"
      ]
     },
     "execution_count": 12,
     "metadata": {},
     "output_type": "execute_result"
    }
   ],
   "source": [
    "get(y[2].stack) == vstack"
   ]
  },
  {
   "cell_type": "code",
   "execution_count": 13,
   "metadata": {
    "collapsed": false
   },
   "outputs": [
    {
     "data": {
      "text/plain": [
       "1"
      ]
     },
     "execution_count": 13,
     "metadata": {},
     "output_type": "execute_result"
    }
   ],
   "source": [
    "length(vstack)"
   ]
  },
  {
   "cell_type": "code",
   "execution_count": 14,
   "metadata": {
    "collapsed": false
   },
   "outputs": [
    {
     "ename": "LoadError",
     "evalue": "LoadError: MethodError: Cannot `convert` an object of type Nullable{DataStructures.Stack} to an object of type DataStructures.Stack{T}\nThis may have arisen from a call to the constructor DataStructures.Stack{T}(...),\nsince type constructors fall back to convert methods.\nwhile loading In[14], in expression starting on line 155",
     "output_type": "error",
     "traceback": [
      "LoadError: MethodError: Cannot `convert` an object of type Nullable{DataStructures.Stack} to an object of type DataStructures.Stack{T}\nThis may have arisen from a call to the constructor DataStructures.Stack{T}(...),\nsince type constructors fall back to convert methods.\nwhile loading In[14], in expression starting on line 155",
      "",
      " in convert(::Type{Nullable{DataStructures.Stack}}, ::Nullable{Nullable{DataStructures.Stack}}) at ./nullable.jl:17",
      " in trace(::Array{RDiff,2}) at ./linalg/dense.jl:127",
      " in f(::Array{RDiff,1}) at ./In[1]:6",
      " in include_string(::String, ::String) at ./loading.jl:380",
      " in eventloop(::ZMQ.Socket) at /Users/jmxp/.julia/v0.5/IJulia/src/IJulia.jl:143",
      " in (::IJulia.##24#30)() at ./task.jl:315"
     ]
    }
   ],
   "source": [
    "@time f(y)"
   ]
  },
  {
   "cell_type": "code",
   "execution_count": 15,
   "metadata": {
    "collapsed": false
   },
   "outputs": [
    {
     "data": {
      "text/plain": [
       "1.0"
      ]
     },
     "execution_count": 15,
     "metadata": {},
     "output_type": "execute_result"
    }
   ],
   "source": [
    "top(vstack).adj = 1."
   ]
  },
  {
   "cell_type": "code",
   "execution_count": 17,
   "metadata": {
    "collapsed": true
   },
   "outputs": [],
   "source": [
    "for v in vstack\n",
    "    v.backprop()\n",
    "end"
   ]
  },
  {
   "cell_type": "code",
   "execution_count": 10,
   "metadata": {
    "collapsed": true
   },
   "outputs": [],
   "source": [
    "clear!(vstack)"
   ]
  },
  {
   "cell_type": "code",
   "execution_count": 61,
   "metadata": {
    "collapsed": false
   },
   "outputs": [
    {
     "data": {
      "text/plain": [
       "[0.258812,0.196289,0.677599,0.35593,0.202465,0.878985,0.64161,0.0712582,0.321324,0.685107,0.317204,0.333813,0.29554,0.663942,0.716625,0.860212,0.417418,0.563485,0.343404,0.491547,0.453621]"
      ]
     },
     "execution_count": 61,
     "metadata": {},
     "output_type": "execute_result"
    },
    {
     "name": "stderr",
     "output_type": "stream",
     "text": [
      "WARNING: Base.writemime is deprecated.\n",
      "  likely near /Users/jmxp/.julia/v0.5/IJulia/src/kernel.jl:31\n",
      "WARNING: Base.writemime is deprecated.\n",
      "  likely near /Users/jmxp/.julia/v0.5/IJulia/src/kernel.jl:31\n",
      "WARNING: Base.writemime is deprecated.\n",
      "  likely near /Users/jmxp/.julia/v0.5/IJulia/src/kernel.jl:31\n",
      "WARNING: Base.writemime is deprecated.\n",
      "  likely near /Users/jmxp/.julia/v0.5/IJulia/src/kernel.jl:31\n",
      "WARNING: Base.writemime is deprecated.\n",
      "  likely near /Users/jmxp/.julia/v0.5/IJulia/src/kernel.jl:31\n",
      "in display_dict at /Users/jmxp/.julia/v0.5/IJulia/src/execute_request.jl\n"
     ]
    }
   ],
   "source": [
    "map(value, y)"
   ]
  },
  {
   "cell_type": "code",
   "execution_count": 2,
   "metadata": {
    "collapsed": false
   },
   "outputs": [
    {
     "data": {
      "text/plain": [
       "quote  # In[2], line 2:\n",
       "    begin  # /Users/jmxp/code/rdiff/prototype.jl, line 69:\n",
       "        function +(x::RDiff,y::RDiff) # /Users/jmxp/code/rdiff/prototype.jl, line 70:\n",
       "            vstack = get_stack(x,y) # /Users/jmxp/code/rdiff/prototype.jl, line 71:\n",
       "            this = RDiff(value(x) + value(y),0.0,vstack) # /Users/jmxp/code/rdiff/prototype.jl, line 72:\n",
       "            function backprop() # /Users/jmxp/code/rdiff/prototype.jl, line 73:\n",
       "                begin  # In[2], line 3:\n",
       "                    x.adj += this.adj # In[2], line 4:\n",
       "                    y.adj += this.adj\n",
       "                end # /Users/jmxp/code/rdiff/prototype.jl, line 74:\n",
       "                nothing\n",
       "            end # /Users/jmxp/code/rdiff/prototype.jl, line 76:\n",
       "            this.backprop = backprop # /Users/jmxp/code/rdiff/prototype.jl, line 77:\n",
       "            push!(vstack,this) # /Users/jmxp/code/rdiff/prototype.jl, line 78:\n",
       "            this\n",
       "        end\n",
       "    end\n",
       "end"
      ]
     },
     "execution_count": 2,
     "metadata": {},
     "output_type": "execute_result"
    },
    {
     "name": "stderr",
     "output_type": "stream",
     "text": [
      "WARNING: Base.writemime is deprecated.\n",
      "  likely near /Users/jmxp/.julia/v0.5/IJulia/src/kernel.jl:31\n",
      "WARNING: Base.writemime is deprecated.\n",
      "  likely near /Users/jmxp/.julia/v0.5/IJulia/src/kernel.jl:31\n",
      "WARNING: Base.writemime is deprecated.\n",
      "  likely near /Users/jmxp/.julia/v0.5/IJulia/src/kernel.jl:31\n",
      "WARNING: Base.writemime is deprecated.\n",
      "  likely near /Users/jmxp/.julia/v0.5/IJulia/src/kernel.jl:31\n",
      "WARNING: Base.writemime is deprecated.\n",
      "  likely near /Users/jmxp/.julia/v0.5/IJulia/src/kernel.jl:31\n",
      "in display_dict at /Users/jmxp/.julia/v0.5/IJulia/src/execute_request.jl\n"
     ]
    }
   ],
   "source": [
    "ex = quote\n",
    "    @diff_rule +(x::RDiff, y::RDiff) begin\n",
    "    x.adj += this.adj\n",
    "    y.adj += this.adj\n",
    "    end\n",
    "end\n",
    "\n",
    "macroexpand(ex)"
   ]
  },
  {
   "cell_type": "code",
   "execution_count": 63,
   "metadata": {
    "collapsed": false
   },
   "outputs": [
    {
     "data": {
      "text/plain": [
       "0.11323020064243994"
      ]
     },
     "execution_count": 63,
     "metadata": {},
     "output_type": "execute_result"
    }
   ],
   "source": [
    "first(rand(10))"
   ]
  },
  {
   "cell_type": "code",
   "execution_count": null,
   "metadata": {
    "collapsed": true
   },
   "outputs": [],
   "source": []
  }
 ],
 "metadata": {
  "kernelspec": {
   "display_name": "Julia 0.5.0-dev",
   "language": "julia",
   "name": "julia-0.5"
  },
  "language_info": {
   "file_extension": ".jl",
   "mimetype": "application/julia",
   "name": "julia",
   "version": "0.5.0"
  }
 },
 "nbformat": 4,
 "nbformat_minor": 0
}
