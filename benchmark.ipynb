{
 "cells": [
  {
   "cell_type": "code",
   "execution_count": 2,
   "metadata": {
    "collapsed": false
   },
   "outputs": [
    {
     "name": "stderr",
     "output_type": "stream",
     "text": [
      "WARNING: Method definition f(Any) in module Main at In[1]:3 overwritten at In[2]:3.\n"
     ]
    },
    {
     "data": {
      "text/plain": [
       "f"
      ]
     },
     "execution_count": 2,
     "metadata": {},
     "output_type": "execute_result"
    }
   ],
   "source": [
    "n = 1000\n",
    "function f(x)\n",
    "    A = reshape(x[1:n^2], n, n)\n",
    "    B = reshape(x[n^2 + 1:2n^2], n, n)\n",
    "    c = x[2n^2+1:end]\n",
    "    trace(log(A * B .+ c))\n",
    "end"
   ]
  },
  {
   "cell_type": "code",
   "execution_count": 3,
   "metadata": {
    "collapsed": false
   },
   "outputs": [
    {
     "name": "stderr",
     "output_type": "stream",
     "text": [
      "WARNING: Base.writemime is deprecated.\n",
      "  likely near /Users/jmxp/.julia/v0.5/IJulia/src/kernel.jl:31\n",
      "WARNING: Base.writemime is deprecated.\n",
      "  likely near /Users/jmxp/.julia/v0.5/IJulia/src/kernel.jl:31\n",
      "WARNING: Base.writemime is deprecated.\n",
      "  likely near /Users/jmxp/.julia/v0.5/IJulia/src/kernel.jl:31\n",
      "WARNING: Base.writemime is deprecated.\n",
      "  likely near /Users/jmxp/.julia/v0.5/IJulia/src/kernel.jl:31\n",
      "WARNING: Base.writemime is deprecated.\n",
      "  likely near /Users/jmxp/.julia/v0.5/IJulia/src/kernel.jl:31\n",
      "in display_dict at /Users/jmxp/.julia/v0.5/IJulia/src/execute_request.jl\n"
     ]
    }
   ],
   "source": [
    "@show N = 2n^2 + n\n",
    "x = rand(N)\n",
    "f(x)"
   ]
  },
  {
   "cell_type": "code",
   "execution_count": 4,
   "metadata": {
    "collapsed": false
   },
   "outputs": [
    {
     "data": {
      "text/plain": [
       "2001000"
      ]
     },
     "execution_count": 4,
     "metadata": {},
     "output_type": "execute_result"
    },
    {
     "name": "stderr",
     "output_type": "stream",
     "text": [
      "WARNING: Base.writemime is deprecated.\n",
      "  likely near /Users/jmxp/.julia/v0.5/IJulia/src/kernel.jl:31\n",
      "WARNING: Base.writemime is deprecated.\n",
      "  likely near /Users/jmxp/.julia/v0.5/IJulia/src/kernel.jl:31\n",
      "WARNING: Base.writemime is deprecated.\n",
      "  likely near /Users/jmxp/.julia/v0.5/IJulia/src/kernel.jl:31\n",
      "WARNING: Base.writemime is deprecated.\n",
      "  likely near /Users/jmxp/.julia/v0.5/IJulia/src/kernel.jl:31\n",
      "WARNING: Base.writemime is deprecated.\n",
      "  likely near /Users/jmxp/.julia/v0.5/IJulia/src/kernel.jl:31\n",
      "in display_dict at /Users/jmxp/.julia/v0.5/IJulia/src/execute_request.jl\n"
     ]
    }
   ],
   "source": [
    "N"
   ]
  },
  {
   "cell_type": "code",
   "execution_count": 5,
   "metadata": {
    "collapsed": false
   },
   "outputs": [
    {
     "data": {
      "text/plain": [
       "backprop"
      ]
     },
     "execution_count": 5,
     "metadata": {},
     "output_type": "execute_result"
    }
   ],
   "source": [
    "include(\"prototype6.jl\")"
   ]
  },
  {
   "cell_type": "code",
   "execution_count": 11,
   "metadata": {
    "collapsed": false
   },
   "outputs": [
    {
     "name": "stderr",
     "output_type": "stream",
     "text": [
      "WARNING: Method definition *(Array{Main.RDiff, N<:Any}, Array{Main.RDiff, N<:Any}) in module Main at /Users/jmxp/code/rdiff/prototype6.jl:74 overwritten at /Users/jmxp/code/rdiff/prototype6.jl:74.\n",
      "WARNING: Method definition backprop(Base.#*, Array{Main.RDiff, N<:Any}, Array{Main.RDiff, N<:Any}, Any) in module Main at /Users/jmxp/code/rdiff/prototype6.jl:81 overwritten at /Users/jmxp/code/rdiff/prototype6.jl:81.\n"
     ]
    },
    {
     "data": {
      "text/plain": [
       "backprop"
      ]
     },
     "execution_count": 11,
     "metadata": {},
     "output_type": "execute_result"
    }
   ],
   "source": [
    "# need to make these in-place\n",
    "@diff_rule *(x::Array{RDiff}, y::Array{RDiff}) begin\n",
    "    incadjoint!(x, adjoint(res) * value(y)')\n",
    "    incadjoint!(y, value(x)' * adjoint(res))    \n",
    "end\n",
    "\n",
    "@diff_rule +(x::Array{RDiff}, y::Array{RDiff}) begin\n",
    "    incadjoint!(x, adjoint(res))\n",
    "    incadjoint!(y, adjoint(res))\n",
    "end"
   ]
  },
  {
   "cell_type": "code",
   "execution_count": 12,
   "metadata": {
    "collapsed": false
   },
   "outputs": [
    {
     "name": "stdout",
     "output_type": "stream",
     "text": [
      "  0.007033 seconds (7 allocations: 15.267 MB)\n"
     ]
    },
    {
     "data": {
      "text/plain": [
       "∇f"
      ]
     },
     "execution_count": 12,
     "metadata": {},
     "output_type": "execute_result"
    }
   ],
   "source": [
    "@time ∇f = grad(f, N)"
   ]
  },
  {
   "cell_type": "code",
   "execution_count": 13,
   "metadata": {
    "collapsed": false
   },
   "outputs": [
    {
     "name": "stdout",
     "output_type": "stream",
     "text": [
      "  1.587463 seconds (15.01 M allocations: 534.774 MB)\n"
     ]
    }
   ],
   "source": [
    "stor = similar(x)\n",
    "@time ∇f(x, stor);"
   ]
  },
  {
   "cell_type": "code",
   "execution_count": 15,
   "metadata": {
    "collapsed": false
   },
   "outputs": [
    {
     "name": "stdout",
     "output_type": "stream",
     "text": [
      "  2.450085 seconds (15.01 M allocations: 534.631 MB, 39.47% gc time)\n"
     ]
    }
   ],
   "source": [
    "@time ∇f(x, stor);"
   ]
  },
  {
   "cell_type": "markdown",
   "metadata": {},
   "source": [
    "------------"
   ]
  },
  {
   "cell_type": "code",
   "execution_count": 7,
   "metadata": {
    "collapsed": false
   },
   "outputs": [
    {
     "name": "stdout",
     "output_type": "stream",
     "text": [
      " 69.803386 seconds (327.08 M allocations: 9.350 GB, 36.72% gc time)\n"
     ]
    }
   ],
   "source": [
    "# prototype 6 @ N = 180k\n",
    "@time ∇f(xx, stor);"
   ]
  },
  {
   "cell_type": "code",
   "execution_count": 9,
   "metadata": {
    "collapsed": false
   },
   "outputs": [
    {
     "name": "stdout",
     "output_type": "stream",
     "text": [
      "  1.622765 seconds (12.33 M allocations: 361.259 MB, 11.34% gc time)\n"
     ]
    }
   ],
   "source": [
    "# prototype6\n",
    "@time ∇f(x, stor);"
   ]
  },
  {
   "cell_type": "code",
   "execution_count": 8,
   "metadata": {
    "collapsed": false
   },
   "outputs": [
    {
     "name": "stdout",
     "output_type": "stream",
     "text": [
      "  2.969177 seconds (12.32 M allocations: 344.716 MB, 0.53% gc time)\n"
     ]
    }
   ],
   "source": [
    "# prototype5\n",
    "@time ∇f(x, stor);"
   ]
  },
  {
   "cell_type": "code",
   "execution_count": 7,
   "metadata": {
    "collapsed": false
   },
   "outputs": [
    {
     "name": "stdout",
     "output_type": "stream",
     "text": [
      "  1.974257 seconds (12.33 M allocations: 361.566 MB, 9.65% gc time)\n"
     ]
    }
   ],
   "source": [
    "# prototype4\n",
    "@time ∇f(x);"
   ]
  },
  {
   "cell_type": "code",
   "execution_count": 13,
   "metadata": {
    "collapsed": false
   },
   "outputs": [
    {
     "name": "stdout",
     "output_type": "stream",
     "text": [
      "  2.230879 seconds (23.62 M allocations: 690.825 MB, 51.35% gc time)\n"
     ]
    }
   ],
   "source": [
    "# prototype\n",
    "@time ∇f(x);"
   ]
  },
  {
   "cell_type": "code",
   "execution_count": 5,
   "metadata": {
    "collapsed": false
   },
   "outputs": [
    {
     "data": {
      "text/plain": [
       "quote  # In[5], line 2:\n",
       "    begin  # /Users/jmxp/code/rdiff/prototype5.jl, line 65:\n",
       "        function +(x::RDiff,y::RDiff) # /Users/jmxp/code/rdiff/prototype5.jl, line 66:\n",
       "            res = map(RDiff,value(x) + value(y)) # /Users/jmxp/code/rdiff/prototype5.jl, line 67:\n",
       "            n = Node(+,tuple(x,y),res) # /Users/jmxp/code/rdiff/prototype5.jl, line 68:\n",
       "            push!(varstack,n) # /Users/jmxp/code/rdiff/prototype5.jl, line 69:\n",
       "            res\n",
       "        end # /Users/jmxp/code/rdiff/prototype5.jl, line 72:\n",
       "        function forward(::typeof(+),Any[:(x::RDiff),:(y::RDiff)],res) # /Users/jmxp/code/rdiff/prototype5.jl, line 73:\n",
       "            new_res = value(x) + value(y) # /Users/jmxp/code/rdiff/prototype5.jl, line 74:\n",
       "            for (r,n) = zip(res,new_res) # /Users/jmxp/code/rdiff/prototype5.jl, line 75:\n",
       "                r.val = n.val # /Users/jmxp/code/rdiff/prototype5.jl, line 76:\n",
       "                r.adj = 0.0\n",
       "            end\n",
       "        end # /Users/jmxp/code/rdiff/prototype5.jl, line 80:\n",
       "        function backprop(::typeof(+),x::RDiff,y::RDiff,res) # /Users/jmxp/code/rdiff/prototype5.jl, line 81:\n",
       "            begin  # In[5], line 3:\n",
       "                x.adj += this.adj # In[5], line 4:\n",
       "                y.adj += this.adj\n",
       "            end # /Users/jmxp/code/rdiff/prototype5.jl, line 82:\n",
       "            nothing\n",
       "        end\n",
       "    end\n",
       "end"
      ]
     },
     "execution_count": 5,
     "metadata": {},
     "output_type": "execute_result"
    },
    {
     "name": "stderr",
     "output_type": "stream",
     "text": [
      "WARNING: Base.writemime is deprecated.\n",
      "  likely near /Users/jmxp/.julia/v0.5/IJulia/src/kernel.jl:31\n",
      "WARNING: Base.writemime is deprecated.\n",
      "  likely near /Users/jmxp/.julia/v0.5/IJulia/src/kernel.jl:31\n",
      "WARNING: Base.writemime is deprecated.\n",
      "  likely near /Users/jmxp/.julia/v0.5/IJulia/src/kernel.jl:31\n",
      "WARNING: Base.writemime is deprecated.\n",
      "  likely near /Users/jmxp/.julia/v0.5/IJulia/src/kernel.jl:31\n",
      "WARNING: Base.writemime is deprecated.\n",
      "  likely near /Users/jmxp/.julia/v0.5/IJulia/src/kernel.jl:31\n",
      "in display_dict at /Users/jmxp/.julia/v0.5/IJulia/src/execute_request.jl\n"
     ]
    }
   ],
   "source": [
    "ex = quote\n",
    "    @diff_rule +(x::RDiff, y::RDiff) begin\n",
    "    x.adj += this.adj\n",
    "    y.adj += this.adj\n",
    "    end\n",
    "end\n",
    "\n",
    "macroexpand(ex)"
   ]
  },
  {
   "cell_type": "code",
   "execution_count": 9,
   "metadata": {
    "collapsed": false
   },
   "outputs": [
    {
     "data": {
      "text/plain": [
       "quote  # In[9], line 2:\n",
       "    begin  # /Users/jmxp/code/rdiff/prototype6.jl, line 66:\n",
       "        function *(x::Array{RDiff},y::Array{RDiff}) # /Users/jmxp/code/rdiff/prototype6.jl, line 67:\n",
       "            res = map(RDiff,value(x) * value(y)) # /Users/jmxp/code/rdiff/prototype6.jl, line 68:\n",
       "            n = RNode(*,tuple(x,y),res) # /Users/jmxp/code/rdiff/prototype6.jl, line 69:\n",
       "            push!(varstack,n) # /Users/jmxp/code/rdiff/prototype6.jl, line 70:\n",
       "            res\n",
       "        end # /Users/jmxp/code/rdiff/prototype6.jl, line 73:\n",
       "        function backprop(::typeof(*),x::Array{RDiff},y::Array{RDiff},res) # /Users/jmxp/code/rdiff/prototype6.jl, line 74:\n",
       "            begin  # In[9], line 3:\n",
       "                x.adj += res.adj * (y.val)' # In[9], line 4:\n",
       "                y.adj += (x.val)' * res.adj\n",
       "            end # /Users/jmxp/code/rdiff/prototype6.jl, line 75:\n",
       "            nothing\n",
       "        end\n",
       "    end\n",
       "end"
      ]
     },
     "execution_count": 9,
     "metadata": {},
     "output_type": "execute_result"
    }
   ],
   "source": [
    "ex = quote\n",
    "    @diff_rule *(x::Array{RDiff}, y::Array{RDiff}) begin\n",
    "        x.adj += res.adj * y.val'\n",
    "        y.adj += x.val' * res.adj\n",
    "    end\n",
    "end\n",
    "\n",
    "macroexpand(ex)"
   ]
  },
  {
   "cell_type": "code",
   "execution_count": null,
   "metadata": {
    "collapsed": true
   },
   "outputs": [],
   "source": []
  }
 ],
 "metadata": {
  "kernelspec": {
   "display_name": "Julia 0.5.0-dev",
   "language": "julia",
   "name": "julia-0.5"
  },
  "language_info": {
   "file_extension": ".jl",
   "mimetype": "application/julia",
   "name": "julia",
   "version": "0.5.0"
  }
 },
 "nbformat": 4,
 "nbformat_minor": 0
}
