{
 "cells": [
  {
   "cell_type": "code",
   "execution_count": 1,
   "metadata": {
    "collapsed": false
   },
   "outputs": [
    {
     "name": "stderr",
     "output_type": "stream",
     "text": [
      "WARNING: Base.writemime is deprecated.\n",
      "  likely near /Users/jmxp/.julia/v0.5/IJulia/src/kernel.jl:31\n",
      "WARNING: Base.writemime is deprecated.\n",
      "  likely near /Users/jmxp/.julia/v0.5/IJulia/src/kernel.jl:31\n",
      "WARNING: Base.writemime is deprecated.\n",
      "  likely near /Users/jmxp/.julia/v0.5/IJulia/src/kernel.jl:31\n",
      "WARNING: Base.writemime is deprecated.\n",
      "  likely near /Users/jmxp/.julia/v0.5/IJulia/src/kernel.jl:31\n"
     ]
    },
    {
     "data": {
      "text/plain": [
       "f"
      ]
     },
     "execution_count": 1,
     "metadata": {},
     "output_type": "execute_result"
    },
    {
     "name": "stderr",
     "output_type": "stream",
     "text": [
      "WARNING: Base.writemime is deprecated.\n",
      "  likely near /Users/jmxp/.julia/v0.5/IJulia/src/kernel.jl:31\n",
      "WARNING: Base.writemime is deprecated.\n",
      "  likely near /Users/jmxp/.julia/v0.5/IJulia/src/kernel.jl:31\n",
      "WARNING: Base.writemime is deprecated.\n",
      "  likely near /Users/jmxp/.julia/v0.5/IJulia/src/kernel.jl:31\n",
      "WARNING: Base.writemime is deprecated.\n",
      "  likely near /Users/jmxp/.julia/v0.5/IJulia/src/kernel.jl:31\n",
      "WARNING: Base.writemime is deprecated.\n",
      "  likely near /Users/jmxp/.julia/v0.5/IJulia/src/kernel.jl:31\n",
      "in display_dict at /Users/jmxp/.julia/v0.5/IJulia/src/execute_request.jl\n"
     ]
    }
   ],
   "source": [
    "n = 1000\n",
    "function f(x)\n",
    "    A = reshape(x[1:n^2], n, n)\n",
    "    B = reshape(x[n^2 + 1:2n^2], n, n)\n",
    "    c = x[2n^2+1:end]\n",
    "    trace(log(A * B .+ c))\n",
    "end"
   ]
  },
  {
   "cell_type": "code",
   "execution_count": 2,
   "metadata": {
    "collapsed": false
   },
   "outputs": [
    {
     "name": "stderr",
     "output_type": "stream",
     "text": [
      "WARNING: Base.writemime is deprecated.\n",
      "  likely near /Users/jmxp/.julia/v0.5/IJulia/src/kernel.jl:31\n",
      "WARNING: Base.writemime is deprecated.\n",
      "  likely near /Users/jmxp/.julia/v0.5/IJulia/src/kernel.jl:31\n",
      "WARNING: Base.writemime is deprecated.\n",
      "  likely near /Users/jmxp/.julia/v0.5/IJulia/src/kernel.jl:31\n",
      "WARNING: Base.writemime is deprecated.\n",
      "  likely near /Users/jmxp/.julia/v0.5/IJulia/src/kernel.jl:31\n",
      "WARNING: Base.writemime is deprecated.\n",
      "  likely near /Users/jmxp/.julia/v0.5/IJulia/src/kernel.jl:31\n",
      "in display_dict at /Users/jmxp/.julia/v0.5/IJulia/src/execute_request.jl\n"
     ]
    }
   ],
   "source": [
    "@show N = 2n^2 + n\n",
    "x = rand(N)\n",
    "f(x)"
   ]
  },
  {
   "cell_type": "code",
   "execution_count": 3,
   "metadata": {
    "collapsed": false
   },
   "outputs": [
    {
     "data": {
      "text/plain": [
       "2001000"
      ]
     },
     "execution_count": 3,
     "metadata": {},
     "output_type": "execute_result"
    },
    {
     "name": "stderr",
     "output_type": "stream",
     "text": [
      "WARNING: Base.writemime is deprecated.\n",
      "  likely near /Users/jmxp/.julia/v0.5/IJulia/src/kernel.jl:31\n",
      "WARNING: Base.writemime is deprecated.\n",
      "  likely near /Users/jmxp/.julia/v0.5/IJulia/src/kernel.jl:31\n",
      "WARNING: Base.writemime is deprecated.\n",
      "  likely near /Users/jmxp/.julia/v0.5/IJulia/src/kernel.jl:31\n",
      "WARNING: Base.writemime is deprecated.\n",
      "  likely near /Users/jmxp/.julia/v0.5/IJulia/src/kernel.jl:31\n",
      "WARNING: Base.writemime is deprecated.\n",
      "  likely near /Users/jmxp/.julia/v0.5/IJulia/src/kernel.jl:31\n",
      "in display_dict at /Users/jmxp/.julia/v0.5/IJulia/src/execute_request.jl\n"
     ]
    }
   ],
   "source": [
    "N"
   ]
  },
  {
   "cell_type": "code",
   "execution_count": 1,
   "metadata": {
    "collapsed": false
   },
   "outputs": [
    {
     "name": "stderr",
     "output_type": "stream",
     "text": [
      "WARNING: Base.writemime is deprecated.\n",
      "  likely near /Users/jmxp/.julia/v0.5/IJulia/src/kernel.jl:31\n",
      "WARNING: Base.writemime is deprecated.\n",
      "  likely near /Users/jmxp/.julia/v0.5/IJulia/src/kernel.jl:31\n",
      "WARNING: Base.writemime is deprecated.\n",
      "  likely near /Users/jmxp/.julia/v0.5/IJulia/src/kernel.jl:31\n",
      "WARNING: Base.writemime is deprecated.\n",
      "  likely near /Users/jmxp/.julia/v0.5/IJulia/src/kernel.jl:31\n"
     ]
    },
    {
     "data": {
      "text/plain": [
       "backprop"
      ]
     },
     "execution_count": 1,
     "metadata": {},
     "output_type": "execute_result"
    },
    {
     "name": "stderr",
     "output_type": "stream",
     "text": [
      "WARNING: Base.writemime is deprecated.\n",
      "  likely near /Users/jmxp/.julia/v0.5/IJulia/src/kernel.jl:31\n",
      "WARNING: Base.writemime is deprecated.\n",
      "  likely near /Users/jmxp/.julia/v0.5/IJulia/src/kernel.jl:31\n",
      "WARNING: Base.writemime is deprecated.\n",
      "  likely near /Users/jmxp/.julia/v0.5/IJulia/src/kernel.jl:31\n",
      "WARNING: Base.writemime is deprecated.\n",
      "  likely near /Users/jmxp/.julia/v0.5/IJulia/src/kernel.jl:31\n",
      "WARNING: Base.writemime is deprecated.\n",
      "  likely near /Users/jmxp/.julia/v0.5/IJulia/src/kernel.jl:31\n",
      "in display_dict at /Users/jmxp/.julia/v0.5/IJulia/src/execute_request.jl\n"
     ]
    }
   ],
   "source": [
    "include(\"prototype7.jl\")"
   ]
  },
  {
   "cell_type": "code",
   "execution_count": 5,
   "metadata": {
    "collapsed": false
   },
   "outputs": [
    {
     "name": "stdout",
     "output_type": "stream",
     "text": [
      "  0.011587 seconds (1.50 k allocations: 15.343 MB)\n"
     ]
    },
    {
     "data": {
      "text/plain": [
       "∇f"
      ]
     },
     "execution_count": 5,
     "metadata": {},
     "output_type": "execute_result"
    }
   ],
   "source": [
    "@time ∇f = grad(f, N)"
   ]
  },
  {
   "cell_type": "code",
   "execution_count": 6,
   "metadata": {
    "collapsed": false
   },
   "outputs": [
    {
     "name": "stdout",
     "output_type": "stream",
     "text": [
      "  2.881469 seconds (16.83 M allocations: 578.346 MB, 14.64% gc time)\n"
     ]
    }
   ],
   "source": [
    "stor = similar(x)\n",
    "@time ∇f(x, stor);"
   ]
  },
  {
   "cell_type": "code",
   "execution_count": 7,
   "metadata": {
    "collapsed": false
   },
   "outputs": [
    {
     "name": "stdout",
     "output_type": "stream",
     "text": [
      "  2.582714 seconds (16.01 M allocations: 549.926 MB, 11.32% gc time)\n"
     ]
    }
   ],
   "source": [
    "@time ∇f(x, stor);"
   ]
  },
  {
   "cell_type": "markdown",
   "metadata": {},
   "source": [
    "------------"
   ]
  },
  {
   "cell_type": "code",
   "execution_count": 15,
   "metadata": {
    "collapsed": false
   },
   "outputs": [
    {
     "name": "stdout",
     "output_type": "stream",
     "text": [
      "  2.450085 seconds (15.01 M allocations: 534.631 MB, 39.47% gc time)\n"
     ]
    }
   ],
   "source": [
    "# prototype 6 with inplace matrix diffs @ N = 2M\n",
    "@time ∇f(x, stor);"
   ]
  },
  {
   "cell_type": "code",
   "execution_count": 7,
   "metadata": {
    "collapsed": false
   },
   "outputs": [
    {
     "name": "stdout",
     "output_type": "stream",
     "text": [
      " 69.803386 seconds (327.08 M allocations: 9.350 GB, 36.72% gc time)\n"
     ]
    }
   ],
   "source": [
    "# prototype 6 @ N = 180k\n",
    "@time ∇f(xx, stor);"
   ]
  },
  {
   "cell_type": "code",
   "execution_count": 9,
   "metadata": {
    "collapsed": false
   },
   "outputs": [
    {
     "name": "stdout",
     "output_type": "stream",
     "text": [
      "  1.622765 seconds (12.33 M allocations: 361.259 MB, 11.34% gc time)\n"
     ]
    }
   ],
   "source": [
    "# prototype6\n",
    "@time ∇f(x, stor);"
   ]
  },
  {
   "cell_type": "code",
   "execution_count": 8,
   "metadata": {
    "collapsed": false
   },
   "outputs": [
    {
     "name": "stdout",
     "output_type": "stream",
     "text": [
      "  2.969177 seconds (12.32 M allocations: 344.716 MB, 0.53% gc time)\n"
     ]
    }
   ],
   "source": [
    "# prototype5\n",
    "@time ∇f(x, stor);"
   ]
  },
  {
   "cell_type": "code",
   "execution_count": 7,
   "metadata": {
    "collapsed": false
   },
   "outputs": [
    {
     "name": "stdout",
     "output_type": "stream",
     "text": [
      "  1.974257 seconds (12.33 M allocations: 361.566 MB, 9.65% gc time)\n"
     ]
    }
   ],
   "source": [
    "# prototype4\n",
    "@time ∇f(x);"
   ]
  },
  {
   "cell_type": "code",
   "execution_count": 13,
   "metadata": {
    "collapsed": false
   },
   "outputs": [
    {
     "name": "stdout",
     "output_type": "stream",
     "text": [
      "  2.230879 seconds (23.62 M allocations: 690.825 MB, 51.35% gc time)\n"
     ]
    }
   ],
   "source": [
    "# prototype\n",
    "@time ∇f(x);"
   ]
  },
  {
   "cell_type": "code",
   "execution_count": 5,
   "metadata": {
    "collapsed": false
   },
   "outputs": [
    {
     "data": {
      "text/plain": [
       "quote  # In[5], line 2:\n",
       "    begin  # /Users/jmxp/code/rdiff/prototype5.jl, line 65:\n",
       "        function +(x::RDiff,y::RDiff) # /Users/jmxp/code/rdiff/prototype5.jl, line 66:\n",
       "            res = map(RDiff,value(x) + value(y)) # /Users/jmxp/code/rdiff/prototype5.jl, line 67:\n",
       "            n = Node(+,tuple(x,y),res) # /Users/jmxp/code/rdiff/prototype5.jl, line 68:\n",
       "            push!(varstack,n) # /Users/jmxp/code/rdiff/prototype5.jl, line 69:\n",
       "            res\n",
       "        end # /Users/jmxp/code/rdiff/prototype5.jl, line 72:\n",
       "        function forward(::typeof(+),Any[:(x::RDiff),:(y::RDiff)],res) # /Users/jmxp/code/rdiff/prototype5.jl, line 73:\n",
       "            new_res = value(x) + value(y) # /Users/jmxp/code/rdiff/prototype5.jl, line 74:\n",
       "            for (r,n) = zip(res,new_res) # /Users/jmxp/code/rdiff/prototype5.jl, line 75:\n",
       "                r.val = n.val # /Users/jmxp/code/rdiff/prototype5.jl, line 76:\n",
       "                r.adj = 0.0\n",
       "            end\n",
       "        end # /Users/jmxp/code/rdiff/prototype5.jl, line 80:\n",
       "        function backprop(::typeof(+),x::RDiff,y::RDiff,res) # /Users/jmxp/code/rdiff/prototype5.jl, line 81:\n",
       "            begin  # In[5], line 3:\n",
       "                x.adj += this.adj # In[5], line 4:\n",
       "                y.adj += this.adj\n",
       "            end # /Users/jmxp/code/rdiff/prototype5.jl, line 82:\n",
       "            nothing\n",
       "        end\n",
       "    end\n",
       "end"
      ]
     },
     "execution_count": 5,
     "metadata": {},
     "output_type": "execute_result"
    },
    {
     "name": "stderr",
     "output_type": "stream",
     "text": [
      "WARNING: Base.writemime is deprecated.\n",
      "  likely near /Users/jmxp/.julia/v0.5/IJulia/src/kernel.jl:31\n",
      "WARNING: Base.writemime is deprecated.\n",
      "  likely near /Users/jmxp/.julia/v0.5/IJulia/src/kernel.jl:31\n",
      "WARNING: Base.writemime is deprecated.\n",
      "  likely near /Users/jmxp/.julia/v0.5/IJulia/src/kernel.jl:31\n",
      "WARNING: Base.writemime is deprecated.\n",
      "  likely near /Users/jmxp/.julia/v0.5/IJulia/src/kernel.jl:31\n",
      "WARNING: Base.writemime is deprecated.\n",
      "  likely near /Users/jmxp/.julia/v0.5/IJulia/src/kernel.jl:31\n",
      "in display_dict at /Users/jmxp/.julia/v0.5/IJulia/src/execute_request.jl\n"
     ]
    }
   ],
   "source": [
    "ex = quote\n",
    "    @diff_rule +(x::RDiff, y::RDiff) begin\n",
    "    x.adj += this.adj\n",
    "    y.adj += this.adj\n",
    "    end\n",
    "end\n",
    "\n",
    "macroexpand(ex)"
   ]
  },
  {
   "cell_type": "code",
   "execution_count": 5,
   "metadata": {
    "collapsed": false
   },
   "outputs": [
    {
     "data": {
      "text/plain": [
       "quote  # In[5], line 2:\n",
       "    begin  # /Users/jmxp/code/rdiff/prototype7.jl, line 75:\n",
       "        function *(x::Array{RDiff},y::Array{RDiff}) # /Users/jmxp/code/rdiff/prototype7.jl, line 76:\n",
       "            res = map(RDiff,value(x) * value(y)) # /Users/jmxp/code/rdiff/prototype7.jl, line 77:\n",
       "            n = RNode(*,tuple(x,y),res) # /Users/jmxp/code/rdiff/prototype7.jl, line 78:\n",
       "            push!(varstack,n) # /Users/jmxp/code/rdiff/prototype7.jl, line 79:\n",
       "            rdiff_syms = [a.sym for a = argsyms] # /Users/jmxp/code/rdiff/prototype7.jl, line 80:\n",
       "            ex = (Core._expr)(:block,$(Expr(:copyast, :($(QuoteNode(:( # /Users/jmxp/code/rdiff/prototype7.jl, line 81:)))))),(Core._expr)(:(=),$(Expr(:copyast, :($(QuoteNode(:(res.sym)))))),(Core.splicedexpr)(:call,(Base.append_any)((Base.vector_any)(op),rdiff_syms)))) # /Users/jmxp/code/rdiff/prototype7.jl, line 83:\n",
       "            res\n",
       "        end # /Users/jmxp/code/rdiff/prototype7.jl, line 86:\n",
       "        function backprop(::typeof(*),x::Array{RDiff},y::Array{RDiff},res) # /Users/jmxp/code/rdiff/prototype7.jl, line 87:\n",
       "            begin  # In[5], line 3:\n",
       "                x.adj += res.adj * (y.val)' # In[5], line 4:\n",
       "                y.adj += (x.val)' * res.adj\n",
       "            end # /Users/jmxp/code/rdiff/prototype7.jl, line 88:\n",
       "            nothing\n",
       "        end\n",
       "    end\n",
       "end"
      ]
     },
     "execution_count": 5,
     "metadata": {},
     "output_type": "execute_result"
    },
    {
     "name": "stderr",
     "output_type": "stream",
     "text": [
      "WARNING: Base.writemime is deprecated.\n",
      "  likely near /Users/jmxp/.julia/v0.5/IJulia/src/kernel.jl:31\n",
      "WARNING: Base.writemime is deprecated.\n",
      "  likely near /Users/jmxp/.julia/v0.5/IJulia/src/kernel.jl:31\n",
      "WARNING: Base.writemime is deprecated.\n",
      "  likely near /Users/jmxp/.julia/v0.5/IJulia/src/kernel.jl:31\n",
      "WARNING: Base.writemime is deprecated.\n",
      "  likely near /Users/jmxp/.julia/v0.5/IJulia/src/kernel.jl:31\n",
      "WARNING: Base.writemime is deprecated.\n",
      "  likely near /Users/jmxp/.julia/v0.5/IJulia/src/kernel.jl:31\n",
      "in display_dict at /Users/jmxp/.julia/v0.5/IJulia/src/execute_request.jl\n"
     ]
    }
   ],
   "source": [
    "ex = quote\n",
    "    @diff_rule *(x::Array{RDiff}, y::Array{RDiff}) begin\n",
    "        x.adj += res.adj * y.val'\n",
    "        y.adj += x.val' * res.adj\n",
    "    end\n",
    "end\n",
    "\n",
    "macroexpand(ex)"
   ]
  },
  {
   "cell_type": "code",
   "execution_count": 2,
   "metadata": {
    "collapsed": false
   },
   "outputs": [
    {
     "data": {
      "text/plain": [
       "RDiff(3.0,0.0,Symbol(\"##270\"),Symbol(\"##271\"))"
      ]
     },
     "execution_count": 2,
     "metadata": {},
     "output_type": "execute_result"
    },
    {
     "name": "stderr",
     "output_type": "stream",
     "text": [
      "WARNING: Base.writemime is deprecated.\n",
      "  likely near /Users/jmxp/.julia/v0.5/IJulia/src/kernel.jl:31\n",
      "WARNING: Base.writemime is deprecated.\n",
      "  likely near /Users/jmxp/.julia/v0.5/IJulia/src/kernel.jl:31\n",
      "WARNING: Base.writemime is deprecated.\n",
      "  likely near /Users/jmxp/.julia/v0.5/IJulia/src/kernel.jl:31\n",
      "WARNING: Base.writemime is deprecated.\n",
      "  likely near /Users/jmxp/.julia/v0.5/IJulia/src/kernel.jl:31\n",
      "WARNING: Base.writemime is deprecated.\n",
      "  likely near /Users/jmxp/.julia/v0.5/IJulia/src/kernel.jl:31\n",
      "in display_dict at /Users/jmxp/.julia/v0.5/IJulia/src/execute_request.jl\n"
     ]
    }
   ],
   "source": [
    "x = RDiff(1)\n",
    "y = RDiff(2)\n",
    "\n",
    "x + y"
   ]
  },
  {
   "cell_type": "code",
   "execution_count": 5,
   "metadata": {
    "collapsed": false
   },
   "outputs": [
    {
     "data": {
      "text/plain": [
       "(DataStructures.Stack{Expr}(Deque [Expr[quote  # /Users/jmxp/code/rdiff/prototype7.jl, line 144:\n",
       "    ##267 += ##271 # /Users/jmxp/code/rdiff/prototype7.jl, line 145:\n",
       "    ##269 += ##271\n",
       "end]]),DataStructures.Queue{Expr}(Deque [Expr[:(##270 = (+)(##266,##268))]]))"
      ]
     },
     "execution_count": 5,
     "metadata": {},
     "output_type": "execute_result"
    },
    {
     "name": "stderr",
     "output_type": "stream",
     "text": [
      "WARNING: Base.writemime is deprecated.\n",
      "  likely near /Users/jmxp/.julia/v0.5/IJulia/src/kernel.jl:31\n",
      "WARNING: Base.writemime is deprecated.\n",
      "  likely near /Users/jmxp/.julia/v0.5/IJulia/src/kernel.jl:31\n",
      "WARNING: Base.writemime is deprecated.\n",
      "  likely near /Users/jmxp/.julia/v0.5/IJulia/src/kernel.jl:31\n",
      "WARNING: Base.writemime is deprecated.\n",
      "  likely near /Users/jmxp/.julia/v0.5/IJulia/src/kernel.jl:31\n",
      "WARNING: Base.writemime is deprecated.\n",
      "  likely near /Users/jmxp/.julia/v0.5/IJulia/src/kernel.jl:31\n",
      "in display_dict at /Users/jmxp/.julia/v0.5/IJulia/src/execute_request.jl\n"
     ]
    }
   ],
   "source": [
    "exstack, exqueue"
   ]
  },
  {
   "cell_type": "code",
   "execution_count": null,
   "metadata": {
    "collapsed": true
   },
   "outputs": [],
   "source": []
  }
 ],
 "metadata": {
  "kernelspec": {
   "display_name": "Julia 0.5.0-dev",
   "language": "julia",
   "name": "julia-0.5"
  },
  "language_info": {
   "file_extension": ".jl",
   "mimetype": "application/julia",
   "name": "julia",
   "version": "0.5.0"
  }
 },
 "nbformat": 4,
 "nbformat_minor": 0
}
